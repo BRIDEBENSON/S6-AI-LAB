{
  "nbformat": 4,
  "nbformat_minor": 0,
  "metadata": {
    "colab": {
      "provenance": [],
      "mount_file_id": "1MDw8pBD19Fe0D9bAiwSKbM6aKqcFedOO",
      "authorship_tag": "ABX9TyNzPFEG4cL0c0smD7qNbMtE",
      "include_colab_link": true
    },
    "kernelspec": {
      "name": "python3",
      "display_name": "Python 3"
    },
    "language_info": {
      "name": "python"
    }
  },
  "cells": [
    {
      "cell_type": "markdown",
      "metadata": {
        "id": "view-in-github",
        "colab_type": "text"
      },
      "source": [
        "<a href=\"https://colab.research.google.com/github/BRIDEBENSON/S6-AI-LAB/blob/main/AI_lab_codes.ipynb\" target=\"_parent\"><img src=\"https://colab.research.google.com/assets/colab-badge.svg\" alt=\"Open In Colab\"/></a>"
      ]
    },
    {
      "cell_type": "markdown",
      "source": [
        "write a python program to implement a nested list and to concatinate two lists"
      ],
      "metadata": {
        "id": "A2yWH-r1UQ54"
      }
    },
    {
      "cell_type": "code",
      "source": [
        "nestedlist=[[0,1,2],[3,4,5],[6,7,8]]\n",
        "print(\"the third element of the first nested list is: \",nestedlist[0][2])\n",
        "\n",
        "list1=[1,2,3]\n",
        "list2=[4,5,6]\n",
        "concatinatedlist= list1+list2\n",
        "print(\"the elements of the concatinated list are: \", concatinatedlist)"
      ],
      "metadata": {
        "colab": {
          "base_uri": "https://localhost:8080/"
        },
        "id": "yk9JeH6_YcAU",
        "outputId": "dcf6517b-bf9e-4c3f-bf4b-8070ffe375ff"
      },
      "execution_count": null,
      "outputs": [
        {
          "output_type": "stream",
          "name": "stdout",
          "text": [
            "the third element of the first nested list is:  2\n",
            "the elements of the concatinated list are:  [1, 2, 3, 4, 5, 6]\n"
          ]
        }
      ]
    },
    {
      "cell_type": "markdown",
      "source": [
        "write a numpy program to convert a list of numeric values into a one dimensional numpy array"
      ],
      "metadata": {
        "id": "wpkNPY1vZ0V9"
      }
    },
    {
      "cell_type": "code",
      "source": [
        "import numpy as np\n",
        "numericlist=[1,2,3]\n",
        "array=np.array(numericlist)\n",
        "print(\"the converted array is\", array)"
      ],
      "metadata": {
        "colab": {
          "base_uri": "https://localhost:8080/"
        },
        "id": "dLxBgk52aw4z",
        "outputId": "7fd9c940-791a-4e4a-abda-2ae1cfa402b2"
      },
      "execution_count": null,
      "outputs": [
        {
          "output_type": "stream",
          "name": "stdout",
          "text": [
            "the converted array is [1 2 3]\n"
          ]
        }
      ]
    },
    {
      "cell_type": "markdown",
      "source": [
        "write a numpy program to reverse an array"
      ],
      "metadata": {
        "id": "FbjLPHvubX_L"
      }
    },
    {
      "cell_type": "code",
      "source": [
        "import numpy as np\n",
        "originalarray=np.array([1,2,3])\n",
        "print(\"the original array is:\",originalarray)\n",
        "reversedarray=originalarray[::-1]\n",
        "print(\"the reversed array is:\",reversedarray)"
      ],
      "metadata": {
        "colab": {
          "base_uri": "https://localhost:8080/"
        },
        "id": "c00xGGc8bfci",
        "outputId": "c3f947bb-91d0-4ebc-fb53-d0e7d344ffaa"
      },
      "execution_count": null,
      "outputs": [
        {
          "output_type": "stream",
          "name": "stdout",
          "text": [
            "the original array is: [1 2 3]\n",
            "the reversed array is: [3 2 1]\n"
          ]
        }
      ]
    },
    {
      "cell_type": "markdown",
      "source": [
        "write a numpy program to capitalise the first letter, lowercase, uppercase, titlecase of all elements of a given array"
      ],
      "metadata": {
        "id": "63YeNC2xcJtE"
      }
    },
    {
      "cell_type": "code",
      "source": [
        "import numpy as np\n",
        "originalarray=np.array([\"hello world\",\"hi\",\"perfect\",\"bye\",\"salut\",\"bonjour\",\"ciao\"])\n",
        "print(\"the actual array: \",originalarray)\n",
        "capitalised=np.char.capitalize(originalarray)\n",
        "print(\"capitalised the first letter of the array\",capitalised)\n",
        "lowered=np.char.lower(originalarray)\n",
        "print(\"lowercased all letters of the array\",lowered)\n",
        "uppered=np.char.upper(originalarray)\n",
        "print(\"lowercased all letters of the array\",uppered)\n",
        "titled=np.char.title(originalarray)\n",
        "print(\"capitalised the first letter of every element in the array\",titled)\n",
        "\n"
      ],
      "metadata": {
        "colab": {
          "base_uri": "https://localhost:8080/"
        },
        "id": "tenKlTn3dydT",
        "outputId": "bf12d6c9-87d9-4152-c781-224ec3861296"
      },
      "execution_count": null,
      "outputs": [
        {
          "output_type": "stream",
          "name": "stdout",
          "text": [
            "the actual array:  ['hello world' 'hi' 'perfect' 'bye' 'salut' 'bonjour' 'ciao']\n",
            "capitalised the first letter of the array ['Hello world' 'Hi' 'Perfect' 'Bye' 'Salut' 'Bonjour' 'Ciao']\n",
            "lowercased all letters of the array ['hello world' 'hi' 'perfect' 'bye' 'salut' 'bonjour' 'ciao']\n",
            "lowercased all letters of the array ['HELLO WORLD' 'HI' 'PERFECT' 'BYE' 'SALUT' 'BONJOUR' 'CIAO']\n",
            "capitalised the first letter of every element in the array ['Hello World' 'Hi' 'Perfect' 'Bye' 'Salut' 'Bonjour' 'Ciao']\n"
          ]
        }
      ]
    },
    {
      "cell_type": "markdown",
      "source": [
        "**EXP 1:**\n",
        "Write a python program to solve 8 queens problem"
      ],
      "metadata": {
        "id": "40GRzTjkv67T"
      }
    },
    {
      "cell_type": "code",
      "source": [
        "def printSolution(board):\n",
        "    for i in range(N):\n",
        "        for j in range(N):\n",
        "            print(board[i][j], end=' ')\n",
        "        print()\n",
        "\n",
        "def isSafe(board, row, col):\n",
        "    for i in range(col):\n",
        "        if board[row][i] == 1:\n",
        "            return False\n",
        "\n",
        "    for i, j in zip(range(row, -1, -1), range(col, -1, -1)):\n",
        "        if board[i][j] == 1:\n",
        "            return False\n",
        "\n",
        "    for i, j in zip(range(row, N, 1), range(col, -1, -1)):\n",
        "        if board[i][j] == 1:\n",
        "            return False\n",
        "\n",
        "    return True\n",
        "\n",
        "def solveNQUtil(board, col):\n",
        "    if col >= N:\n",
        "        return True\n",
        "\n",
        "    for i in range(N):\n",
        "        if isSafe(board, i, col):\n",
        "            board[i][col] = 1\n",
        "\n",
        "            if solveNQUtil(board, col + 1):\n",
        "                return True\n",
        "\n",
        "            board[i][col] = 0\n",
        "\n",
        "    return False\n",
        "\n",
        "def solveNQ():\n",
        "    global N\n",
        "    N = int(input(\"Enter the number of queens: \"))\n",
        "    board = [[0] * N for _ in range(N)]\n",
        "\n",
        "    if solveNQUtil(board, 0) == False:\n",
        "        print(\"Solution does not exist\")\n",
        "        return False\n",
        "\n",
        "    print(\"Queens placement:\")\n",
        "    printSolution(board)\n",
        "    return True\n",
        "\n",
        "if __name__ == \"__main__\":\n",
        "    solveNQ()"
      ],
      "metadata": {
        "colab": {
          "base_uri": "https://localhost:8080/"
        },
        "id": "zMhYnXoRv81L",
        "outputId": "79ba6434-9bdc-4bb1-feeb-9af22205afa9"
      },
      "execution_count": 2,
      "outputs": [
        {
          "output_type": "stream",
          "name": "stdout",
          "text": [
            "Enter the number of queens: 9\n",
            "Queens placement:\n",
            "1 0 0 0 0 0 0 0 0 \n",
            "0 0 0 0 1 0 0 0 0 \n",
            "0 1 0 0 0 0 0 0 0 \n",
            "0 0 0 0 0 1 0 0 0 \n",
            "0 0 0 0 0 0 0 0 1 \n",
            "0 0 1 0 0 0 0 0 0 \n",
            "0 0 0 0 0 0 0 1 0 \n",
            "0 0 0 1 0 0 0 0 0 \n",
            "0 0 0 0 0 0 1 0 0 \n"
          ]
        }
      ]
    },
    {
      "cell_type": "markdown",
      "source": [
        "**EXP 2:**\n",
        "Write a program to implement a Water Jug problem"
      ],
      "metadata": {
        "id": "KFGA8ST4wDZz"
      }
    },
    {
      "cell_type": "code",
      "source": [
        "def WaterJugSolver(amt1, amt2, aim):\n",
        "    visited_states = set()\n",
        "    shortest_path = None\n",
        "\n",
        "    def explore(amt1, amt2, path):\n",
        "        nonlocal shortest_path\n",
        "\n",
        "        if (amt1, amt2) in visited_states:\n",
        "            return\n",
        "        visited_states.add((amt1, amt2))\n",
        "\n",
        "        if amt2 == aim:\n",
        "            if shortest_path is None or len(path) < len(shortest_path):\n",
        "                shortest_path = path.copy()\n",
        "            return\n",
        "\n",
        "        # Fill jug 1\n",
        "        if amt1 < jug1:\n",
        "            explore(jug1, amt2, path + [(jug1, amt2)])\n",
        "\n",
        "        # Fill jug 2\n",
        "        if amt2 < jug2:\n",
        "            explore(amt1, jug2, path + [(amt1, jug2)])\n",
        "\n",
        "        # Empty jug 1\n",
        "        if amt1 > 0:\n",
        "            explore(0, amt2, path + [(0, amt2)])\n",
        "\n",
        "        # Empty jug 2\n",
        "        if amt2 > 0:\n",
        "            explore(amt1, 0, path + [(amt1, 0)])\n",
        "\n",
        "        # Pour from jug 1 to jug 2\n",
        "        if amt1 > 0 and amt2 < jug2:\n",
        "            pour = min(amt1, jug2 - amt2)\n",
        "            explore(amt1 - pour, amt2 + pour, path + [(amt1 - pour, amt2 + pour)])\n",
        "\n",
        "        # Pour from jug 2 to jug 1\n",
        "        if amt2 > 0 and amt1 < jug1:\n",
        "            pour = min(amt2, jug1 - amt1)\n",
        "            explore(amt1 + pour, amt2 - pour, path + [(amt1 + pour, amt2 - pour)])\n",
        "\n",
        "    explore(0, 0, [(0, 0)])  # Start exploring from the initial state\n",
        "\n",
        "    if shortest_path is not None:\n",
        "        print(\"Shortest solution found in\", len(shortest_path)-1, \"steps:\")\n",
        "        for step, state in enumerate(shortest_path):\n",
        "            print(f\"Step {step}: Jug 1 = {state[0]}, Jug 2 = {state[1]}\")\n",
        "    else:\n",
        "        print(\"No solution found.\")\n",
        "\n",
        "# Step 2: Read the capacities of jug 1 and jug 2 from the user\n",
        "jug1 = int(input(\"Enter the capacity of jug 1: \"))\n",
        "jug2 = int(input(\"Enter the capacity of jug 2: \"))\n",
        "\n",
        "# Step 3: Read the amount of water to be present in the second jug\n",
        "aim = int(input(\"Enter the target amount of water in jug 2: \"))\n",
        "\n",
        "# Step 4: Call the WaterJugSolver function with the given capacities and target amount\n",
        "WaterJugSolver(0, 0, aim)"
      ],
      "metadata": {
        "colab": {
          "base_uri": "https://localhost:8080/"
        },
        "id": "LPH3UTqjwaMD",
        "outputId": "cbdd6fe8-01f4-4a4b-efe1-6f7fdda68077"
      },
      "execution_count": 3,
      "outputs": [
        {
          "output_type": "stream",
          "name": "stdout",
          "text": [
            "Enter the capacity of jug 1: 4\n",
            "Enter the capacity of jug 2: 3\n",
            "Enter the target amount of water in jug 2: 2\n",
            "Shortest solution found in 6 steps:\n",
            "Step 0: Jug 1 = 0, Jug 2 = 0\n",
            "Step 1: Jug 1 = 4, Jug 2 = 0\n",
            "Step 2: Jug 1 = 4, Jug 2 = 3\n",
            "Step 3: Jug 1 = 0, Jug 2 = 3\n",
            "Step 4: Jug 1 = 3, Jug 2 = 0\n",
            "Step 5: Jug 1 = 3, Jug 2 = 3\n",
            "Step 6: Jug 1 = 4, Jug 2 = 2\n"
          ]
        }
      ]
    },
    {
      "cell_type": "markdown",
      "source": [
        "**EXP 3:**\n",
        "Write a program to implement Hangman Game."
      ],
      "metadata": {
        "id": "8w3TrVetwj8j"
      }
    },
    {
      "cell_type": "code",
      "source": [
        "import random\n",
        "\n",
        "def choose_word():\n",
        "    words = [\"python\", \"programming\", \"developer\", \"challenge\", \"computer\"]\n",
        "    return random.choice(words)\n",
        "\n",
        "def display_word(word, guessed_letters):\n",
        "    display = \"\"\n",
        "    for letter in word:\n",
        "        if letter in guessed_letters:\n",
        "            display += letter\n",
        "        else:\n",
        "            display += \"_ \"\n",
        "    return display\n",
        "\n",
        "def print_hangman(attempts):\n",
        "    hangman_figures = [\n",
        "        '''\n",
        "           -----\n",
        "           |   |\n",
        "               |\n",
        "               |\n",
        "               |\n",
        "               |\n",
        "        -------'''\n",
        "        ,\n",
        "        '''\n",
        "           -----\n",
        "           |   |\n",
        "           O   |\n",
        "               |\n",
        "               |\n",
        "               |\n",
        "        -------'''\n",
        "        ,\n",
        "        '''\n",
        "           -----\n",
        "           |   |\n",
        "           O   |\n",
        "           |   |\n",
        "               |\n",
        "               |\n",
        "        -------'''\n",
        "        ,\n",
        "        '''\n",
        "           -----\n",
        "           |   |\n",
        "           O   |\n",
        "          /|   |\n",
        "               |\n",
        "               |\n",
        "        -------'''\n",
        "        ,\n",
        "        '''\n",
        "           -----\n",
        "           |   |\n",
        "           O   |\n",
        "          /|\\  |\n",
        "               |\n",
        "               |\n",
        "        -------'''\n",
        "        ,\n",
        "        '''\n",
        "           -----\n",
        "           |   |\n",
        "           O   |\n",
        "          /|\\  |\n",
        "          /    |\n",
        "               |\n",
        "        -------'''\n",
        "        ,\n",
        "        '''\n",
        "           -----\n",
        "           |   |\n",
        "           O   |\n",
        "          /|\\  |\n",
        "          / \\  |\n",
        "               |\n",
        "        -------'''\n",
        "    ]\n",
        "\n",
        "    print(hangman_figures[attempts])\n",
        "\n",
        "def guess_word():\n",
        "    print(\"Welcome to the Word Guessing Game!\")\n",
        "    user_name = input(\"Enter your name: \")\n",
        "    print(f\"Hello, {user_name}!\")\n",
        "\n",
        "    secret_word = choose_word()\n",
        "    max_attempts = 6\n",
        "    attempts = 0\n",
        "    guessed_letters = []\n",
        "\n",
        "    print(\"Try to guess the word!\")\n",
        "\n",
        "    while attempts < max_attempts:\n",
        "        current_display = display_word(secret_word, guessed_letters)\n",
        "        print(f\"Current word: {current_display}\")\n",
        "        print(f\"Attempts: {attempts + 1}/{max_attempts}\")\n",
        "        print_hangman(attempts)\n",
        "        guess = input(\"Enter a letter: \").lower()\n",
        "\n",
        "        if guess.isalpha() and len(guess) == 1:\n",
        "            if guess in guessed_letters:\n",
        "                print(\"You already guessed that letter. Try again.\")\n",
        "            elif guess in secret_word:\n",
        "                print(\"Good guess!\")\n",
        "                guessed_letters.append(guess)\n",
        "            else:\n",
        "                print(\"Incorrect guess. Try again.\")\n",
        "                attempts += 1\n",
        "        else:\n",
        "            print(\"Invalid input. Please enter a single letter.\")\n",
        "\n",
        "        if set(secret_word) == set(guessed_letters):\n",
        "            print(f\"Congratulations, {user_name}! You guessed the word: {secret_word}\")\n",
        "            break\n",
        "\n",
        "    if set(secret_word) != set(guessed_letters):\n",
        "        print(f\"Sorry, {user_name}. You ran out of attempts. The correct word was: {secret_word}\")\n",
        "        print_hangman(max_attempts)\n",
        "\n",
        "if __name__ == \"__main__\":\n",
        "    guess_word()"
      ],
      "metadata": {
        "colab": {
          "base_uri": "https://localhost:8080/"
        },
        "id": "RbPzIQspwnxi",
        "outputId": "289f0a99-781e-42de-ca80-8440b89594d2"
      },
      "execution_count": 5,
      "outputs": [
        {
          "output_type": "stream",
          "name": "stdout",
          "text": [
            "Welcome to the Word Guessing Game!\n",
            "Enter your name: bride\n",
            "Hello, bride!\n",
            "Try to guess the word!\n",
            "Current word: _ _ _ _ _ _ _ _ _ _ _ \n",
            "Attempts: 1/6\n",
            "\n",
            "           -----\n",
            "           |   |\n",
            "               |\n",
            "               |\n",
            "               |\n",
            "               |\n",
            "        -------\n",
            "Enter a letter: c\n",
            "Incorrect guess. Try again.\n",
            "Current word: _ _ _ _ _ _ _ _ _ _ _ \n",
            "Attempts: 2/6\n",
            "\n",
            "           -----\n",
            "           |   |\n",
            "           O   |\n",
            "               |\n",
            "               |\n",
            "               |\n",
            "        -------\n",
            "Enter a letter: a\n",
            "Good guess!\n",
            "Current word: _ _ _ _ _ a_ _ _ _ _ \n",
            "Attempts: 2/6\n",
            "\n",
            "           -----\n",
            "           |   |\n",
            "           O   |\n",
            "               |\n",
            "               |\n",
            "               |\n",
            "        -------\n",
            "Enter a letter: o\n",
            "Good guess!\n",
            "Current word: _ _ o_ _ a_ _ _ _ _ \n",
            "Attempts: 2/6\n",
            "\n",
            "           -----\n",
            "           |   |\n",
            "           O   |\n",
            "               |\n",
            "               |\n",
            "               |\n",
            "        -------\n",
            "Enter a letter: p\n",
            "Good guess!\n",
            "Current word: p_ o_ _ a_ _ _ _ _ \n",
            "Attempts: 2/6\n",
            "\n",
            "           -----\n",
            "           |   |\n",
            "           O   |\n",
            "               |\n",
            "               |\n",
            "               |\n",
            "        -------\n",
            "Enter a letter: m\n",
            "Good guess!\n",
            "Current word: p_ o_ _ amm_ _ _ \n",
            "Attempts: 2/6\n",
            "\n",
            "           -----\n",
            "           |   |\n",
            "           O   |\n",
            "               |\n",
            "               |\n",
            "               |\n",
            "        -------\n",
            "Enter a letter: i\n",
            "Good guess!\n",
            "Current word: p_ o_ _ ammi_ _ \n",
            "Attempts: 2/6\n",
            "\n",
            "           -----\n",
            "           |   |\n",
            "           O   |\n",
            "               |\n",
            "               |\n",
            "               |\n",
            "        -------\n",
            "Enter a letter: n\n",
            "Good guess!\n",
            "Current word: p_ o_ _ ammin_ \n",
            "Attempts: 2/6\n",
            "\n",
            "           -----\n",
            "           |   |\n",
            "           O   |\n",
            "               |\n",
            "               |\n",
            "               |\n",
            "        -------\n",
            "Enter a letter: g\n",
            "Good guess!\n",
            "Current word: p_ og_ amming\n",
            "Attempts: 2/6\n",
            "\n",
            "           -----\n",
            "           |   |\n",
            "           O   |\n",
            "               |\n",
            "               |\n",
            "               |\n",
            "        -------\n",
            "Enter a letter: r\n",
            "Good guess!\n",
            "Congratulations, bride! You guessed the word: programming\n"
          ]
        }
      ]
    },
    {
      "cell_type": "markdown",
      "source": [
        "**EXP 4:**\n",
        "Write a python program to implement Breadth First Search."
      ],
      "metadata": {
        "id": "GXuj2wWzwr9j"
      }
    },
    {
      "cell_type": "code",
      "source": [
        "from collections import defaultdict, deque\n",
        "\n",
        "# Step 2: Read a graph from the user in the form of a dictionary and list\n",
        "def addEdge(adjList, u, v):\n",
        "    adjList[u].append(v)\n",
        "    adjList[v].append(u)\n",
        "\n",
        "# Step 3: Initialize two lists 'visited' and 'queue'\n",
        "visited = []\n",
        "queue = deque()\n",
        "\n",
        "# Step 4: Create a function 'bfs' and perform the following operations:\n",
        "def bfs(graph, start):\n",
        "    # Step 4.1: Start by putting any one of the graph’s vertices at the back of the queue.\n",
        "    queue.append(start)\n",
        "    visited.append(start)\n",
        "\n",
        "    # Step 4.4: Continue from Step 4.2 to Step 4.3, until the queue is empty.\n",
        "    while queue:\n",
        "        # Step 4.2: Now take the front item of the queue and add it to the visited list.\n",
        "        vertex = queue.popleft()\n",
        "        print(vertex,\"\\t\")\n",
        "\n",
        "        # Step 4.3: Create a list of that vertex’s adjacent nodes. Add those which are not within the visited list to the rear of the queue.\n",
        "        for neighbor in graph[vertex]:\n",
        "            if neighbor not in visited:\n",
        "                visited.append(neighbor)\n",
        "                queue.append(neighbor)\n",
        "\n",
        "# Take input for the number of edges\n",
        "num_edges = int(input(\"Enter the number of edges: \"))\n",
        "\n",
        "# Initialize an empty adjacency list\n",
        "graph = defaultdict(list)\n",
        "\n",
        "# Take input for each edge\n",
        "for _ in range(num_edges):\n",
        "    u, v = map(int, input(\"Enter edge (u v): \").split())\n",
        "    addEdge(graph, u, v)\n",
        "\n",
        "# Take input for the starting vertex\n",
        "start_vertex = int(input(\"Enter the starting vertex for BFS: \"))\n",
        "\n",
        "# Perform BFS\n",
        "bfs(graph, start_vertex)\n",
        "# Input :\n",
        "# 0, 1\n",
        "# 0, 2\n",
        "# 1, 4\n",
        "# 2, 4"
      ],
      "metadata": {
        "colab": {
          "base_uri": "https://localhost:8080/"
        },
        "id": "CUzcHuc2w1VD",
        "outputId": "7719bf1b-4971-47a6-a8d8-8409b564a3c1"
      },
      "execution_count": 8,
      "outputs": [
        {
          "output_type": "stream",
          "name": "stdout",
          "text": [
            "Enter the number of edges: 4\n",
            "Enter edge (u v): 0 1\n",
            "Enter edge (u v): 0 2\n",
            "Enter edge (u v): 1 4\n",
            "Enter edge (u v): 2 4\n",
            "Enter the starting vertex for BFS: 2\n",
            "2 \t\n",
            "0 \t\n",
            "4 \t\n",
            "1 \t\n"
          ]
        }
      ]
    },
    {
      "cell_type": "markdown",
      "source": [
        "**EXP 5:**\n",
        "Write a python program to implement Depth First Search."
      ],
      "metadata": {
        "id": "KgSf91DOw2ab"
      }
    },
    {
      "cell_type": "code",
      "source": [
        "from collections import defaultdict\n",
        "\n",
        "# Step 2: Read a graph from the user in the form of a dictionary and list\n",
        "def addEdge(adjList, u, v):\n",
        "    adjList[u].append(v)\n",
        "    adjList[v].append(u)\n",
        "\n",
        "# Step 3: Initialize a list 'visited'\n",
        "visited = []\n",
        "\n",
        "# Step 4: Create a function 'dfs' and perform the following operations:\n",
        "def dfs(graph, vertex):\n",
        "    # Step 4.1: Mark the current vertex as visited\n",
        "    visited.append(vertex)\n",
        "    print(vertex,\"\\t\")\n",
        "\n",
        "    # Step 4.2: Recursively visit all adjacent vertices that have not been visited yet\n",
        "    for neighbor in graph[vertex]:\n",
        "        if neighbor not in visited:\n",
        "            dfs(graph, neighbor)\n",
        "\n",
        "# Take input for the number of edges\n",
        "num_edges = int(input(\"Enter the number of edges: \"))\n",
        "\n",
        "# Initialize an empty adjacency list\n",
        "graph = defaultdict(list)\n",
        "\n",
        "# Take input for each edge\n",
        "for _ in range(num_edges):\n",
        "    u, v = map(int, input(\"Enter edge (u v): \").split())\n",
        "    addEdge(graph, u, v)\n",
        "\n",
        "# Take input for the starting vertex\n",
        "start_vertex = int(input(\"Enter the starting vertex for DFS: \"))\n",
        "\n",
        "# Perform DFS\n",
        "dfs(graph, start_vertex)\n",
        "\n",
        "# Input :\n",
        "# 0, 1\n",
        "# 0, 2\n",
        "# 1, 4\n",
        "# 2, 4"
      ],
      "metadata": {
        "colab": {
          "base_uri": "https://localhost:8080/"
        },
        "id": "BUJbkd4xw767",
        "outputId": "ab5c2f1b-68b5-48e8-b4c2-e3a7f9b62817"
      },
      "execution_count": 9,
      "outputs": [
        {
          "output_type": "stream",
          "name": "stdout",
          "text": [
            "Enter the number of edges: 4\n",
            "Enter edge (u v): 0 1\n",
            "Enter edge (u v): 0 2\n",
            "Enter edge (u v): 1 4\n",
            "Enter edge (u v): 2 4\n",
            "Enter the starting vertex for DFS: 2\n",
            "2 \t\n",
            "0 \t\n",
            "1 \t\n",
            "4 \t\n"
          ]
        }
      ]
    },
    {
      "cell_type": "markdown",
      "source": [
        "**EXP 6:**\n",
        "Write a program to implement A* algorithm."
      ],
      "metadata": {
        "id": "_LfQXxgSw_5K"
      }
    },
    {
      "cell_type": "code",
      "source": [
        "from collections import deque\n",
        "\n",
        "class Graph:\n",
        "    # example of adjacency list (or rather map)\n",
        "    # adjacency_list = {\n",
        "    # 'A': [('B', 1), ('C', 3), ('D', 7)],\n",
        "    # 'B': [('D', 5)],\n",
        "    # 'C': [('D', 12)]\n",
        "    # }\n",
        "\n",
        "    def __init__(self, adjacency_list):\n",
        "        self.adjacency_list = adjacency_list\n",
        "\n",
        "    def get_neighbors(self, v):\n",
        "        return self.adjacency_list[v]\n",
        "\n",
        "    # heuristic function with equal values for all nodes\n",
        "    def h(self, n):\n",
        "        H = {\n",
        "            'S': 11.5,\n",
        "            'A': 10.1,\n",
        "            'B': 5.8,\n",
        "            'C': 3.4,\n",
        "            'D': 9.2,\n",
        "            'E': 7.1,\n",
        "            'F': 3.5,\n",
        "            'G': 0\n",
        "        }\n",
        "\n",
        "        return H[n]\n",
        "\n",
        "    def a_star_algorithm(self, start_node, stop_node):\n",
        "        # open_list is a list of nodes which have been visited, but who's neighbors\n",
        "        # haven't all been inspected, starts off with the start node\n",
        "        # closed_list is a list of nodes which have been visited\n",
        "        # and who's neighbors have been inspected\n",
        "        open_list = set([start_node])\n",
        "        closed_list = set([])\n",
        "\n",
        "        # g contains current distances from start_node to all other nodes\n",
        "        # the default value (if it's not found in the map) is +infinity\n",
        "        g = {}\n",
        "\n",
        "        g[start_node] = 0\n",
        "\n",
        "        # parents contains an adjacency map of all nodes\n",
        "        parents = {}\n",
        "        parents[start_node] = start_node\n",
        "\n",
        "        while len(open_list) > 0:\n",
        "            n = None\n",
        "\n",
        "            # find a node with the lowest value of f() - evaluation function\n",
        "            for v in open_list:\n",
        "                if n == None or g[v] + self.h(v) < g[n] + self.h(n):\n",
        "                    n = v;\n",
        "\n",
        "            if n == None:\n",
        "                print('Path does not exist!')\n",
        "                return None\n",
        "\n",
        "            # if the current node is the stop_node\n",
        "            # then we begin reconstructin the path from it to the start_node\n",
        "            if n == stop_node:\n",
        "                reconst_path = []\n",
        "\n",
        "                while parents[n] != n:\n",
        "                    reconst_path.append(n)\n",
        "                    n = parents[n]\n",
        "\n",
        "                reconst_path.append(start_node)\n",
        "\n",
        "                reconst_path.reverse()\n",
        "\n",
        "                print('Path found: {}'.format(reconst_path))\n",
        "                return reconst_path\n",
        "\n",
        "            # for all neighbors of the current node do\n",
        "            for (m, weight) in self.get_neighbors(n):\n",
        "                # if the current node isn't in both open_list and closed_list\n",
        "                # add it to open_list and note n as it's parent\n",
        "                if m not in open_list and m not in closed_list:\n",
        "                    open_list.add(m)\n",
        "                    parents[m] = n\n",
        "                    g[m] = g[n] + weight\n",
        "\n",
        "                # otherwise, check if it's quicker to first visit n, then m\n",
        "                # and if it is, update parent data and g data\n",
        "                # and if the node was in the closed_list, move it to open_list\n",
        "                else:\n",
        "                    if g[m] > g[n] + weight:\n",
        "                        g[m] = g[n] + weight\n",
        "                        parents[m] = n\n",
        "\n",
        "                        if m in closed_list:\n",
        "                            closed_list.remove(m)\n",
        "                            open_list.add(m)\n",
        "\n",
        "            # remove n from the open_list, and add it to closed_list\n",
        "            # because all of his neighbors were inspected\n",
        "            open_list.remove(n)\n",
        "            closed_list.add(n)\n",
        "\n",
        "        print('Path does not exist!')\n",
        "        return None\n",
        "\n",
        "adjacency_list = {\n",
        "    'S' : [('A',3),('D',4)],\n",
        "    'A': [('B', 4), ('D', 5),('S',3)],\n",
        "    'B': [('C', 4), ('E', 5),('A',4)],\n",
        "    'C': [('B',4)],\n",
        "    'D': [('E', 2),('S',4),('A',5)],\n",
        "    'E': [('D', 2),('F',4),('B',5)],\n",
        "    'F': [('E',4),('G',3.5)],\n",
        "    'G': [('F',3.5)]\n",
        "}\n",
        "graph1 = Graph(adjacency_list)\n",
        "graph1.a_star_algorithm('S', 'G')"
      ],
      "metadata": {
        "colab": {
          "base_uri": "https://localhost:8080/"
        },
        "id": "wBPGRNISxEFT",
        "outputId": "f0c1a8d5-20f1-4cfd-bafd-bb56ca1abcc0"
      },
      "execution_count": 10,
      "outputs": [
        {
          "output_type": "stream",
          "name": "stdout",
          "text": [
            "Path found: ['S', 'D', 'E', 'F', 'G']\n"
          ]
        },
        {
          "output_type": "execute_result",
          "data": {
            "text/plain": [
              "['S', 'D', 'E', 'F', 'G']"
            ]
          },
          "metadata": {},
          "execution_count": 10
        }
      ]
    },
    {
      "cell_type": "markdown",
      "source": [
        "**EXP 7:**\n",
        "Write a program to implement A0* algorithm."
      ],
      "metadata": {
        "id": "K_mfY9hdxHuT"
      }
    },
    {
      "cell_type": "code",
      "source": [
        "# Cost to find the AND and OR path\n",
        "def Cost(H, condition, weight = 1):\n",
        "\tcost = {}\n",
        "\tif 'AND' in condition:\n",
        "\t\tAND_nodes = condition['AND']\n",
        "\t\tPath_A = ' AND '.join(AND_nodes)\n",
        "\t\tPathA = sum(H[node]+weight for node in AND_nodes)\n",
        "\t\tcost[Path_A] = PathA\n",
        "\n",
        "\tif 'OR' in condition:\n",
        "\t\tOR_nodes = condition['OR']\n",
        "\t\tPath_B =' OR '.join(OR_nodes)\n",
        "\t\tPathB = min(H[node]+weight for node in OR_nodes)\n",
        "\t\tcost[Path_B] = PathB\n",
        "\treturn cost\n",
        "\n",
        "# Update the cost\n",
        "def update_cost(H, Conditions, weight=1):\n",
        "\tMain_nodes = list(Conditions.keys())\n",
        "\tMain_nodes.reverse()\n",
        "\tleast_cost= {}\n",
        "\tfor key in Main_nodes:\n",
        "\t\tcondition = Conditions[key]\n",
        "\t\tc = Cost(H, condition, weight)\n",
        "\t\tH[key] = min(c.values())\n",
        "\t\tleast_cost[key] = Cost(H, condition, weight)\n",
        "\treturn least_cost\n",
        "\n",
        "# Print the shortest path\n",
        "def shortest_path(Start,Updated_cost, H):\n",
        "\tPath = Start\n",
        "\tif Start in Updated_cost.keys():\n",
        "\t\tMin_cost = min(Updated_cost[Start].values())\n",
        "\t\tkey = list(Updated_cost[Start].keys())\n",
        "\t\tvalues = list(Updated_cost[Start].values())\n",
        "\t\tIndex = values.index(Min_cost)\n",
        "\n",
        "\t\t# FIND MINIMIMUM PATH KEY\n",
        "\t\tNext = key[Index].split()\n",
        "\t\t# ADD TO PATH FOR OR PATH\n",
        "\t\tif len(Next) == 1:\n",
        "\n",
        "\t\t\tStart =Next[0]\n",
        "\t\t\tPath += '<--' +shortest_path(Start, Updated_cost, H)\n",
        "\t\t# ADD TO PATH FOR AND PATH\n",
        "\t\telse:\n",
        "\t\t\tPath +='<--('+key[Index]+') '\n",
        "\n",
        "\t\t\tStart = Next[0]\n",
        "\t\t\tPath += '[' +shortest_path(Start, Updated_cost, H) + ' + '\n",
        "\n",
        "\t\t\tStart = Next[-1]\n",
        "\t\t\tPath += shortest_path(Start, Updated_cost, H) + ']'\n",
        "\n",
        "\treturn Path\n",
        "\n",
        "\n",
        "\n",
        "H = {'A': -1, 'B': 5, 'C': 2, 'D': 4, 'E': 7, 'F': 9, 'G': 3, 'H': 0, 'I':0, 'J':0}\n",
        "\n",
        "Conditions = {\n",
        "'A': {'OR': ['B'], 'AND': ['C', 'D']},\n",
        "'B': {'OR': ['E', 'F']},\n",
        "'C': {'OR': ['G'], 'AND': ['H', 'I']},\n",
        "'D': {'OR': ['J']}\n",
        "}\n",
        "# weight\n",
        "weight = 1\n",
        "# Updated cost\n",
        "\n",
        "Updated_cost = update_cost(H, Conditions, weight=1)\n",
        "\n",
        "print('Shortest Path :\\n',shortest_path('A', Updated_cost,H))"
      ],
      "metadata": {
        "colab": {
          "base_uri": "https://localhost:8080/"
        },
        "id": "oAZZRn11xZlK",
        "outputId": "a58c9008-f100-4887-abaf-0562662fb1eb"
      },
      "execution_count": 11,
      "outputs": [
        {
          "output_type": "stream",
          "name": "stdout",
          "text": [
            "Shortest Path :\n",
            " A<--(C AND D) [C<--(H AND I) [H + I] + D<--J]\n"
          ]
        }
      ]
    }
  ]
}